{
  "nbformat": 4,
  "nbformat_minor": 0,
  "metadata": {
    "colab": {
      "provenance": []
    },
    "kernelspec": {
      "name": "python3",
      "display_name": "Python 3"
    },
    "language_info": {
      "name": "python"
    }
  },
  "cells": [
    {
      "cell_type": "code",
      "execution_count": null,
      "metadata": {
        "id": "aIfQUJmpy-fk",
        "colab": {
          "base_uri": "https://localhost:8080/"
        },
        "outputId": "5f324643-ef86-48fa-88b3-49e8240260c5"
      },
      "outputs": [
        {
          "output_type": "stream",
          "name": "stdout",
          "text": [
            "1. Center of the first iteration (red): [4.8  3.05]\n",
            "2. Center of the second iteration: [5.3 4. ]\n",
            "3. Center of the third iteration when clustering converges: [6.2   3.025]\n",
            "4. Number of iterations for convergence: 3\n"
          ]
        }
      ],
      "source": [
        "import numpy as np\n",
        "\n",
        "def euclidean_distance(point1, point2):\n",
        "    return np.sqrt(np.sum((point1 - point2)**2))\n",
        "\n",
        "def k_means_clustering(X, k, initial_centers, max_iterations=100):\n",
        "    centers = np.array(initial_centers)\n",
        "    num_points, num_features = X.shape\n",
        "\n",
        "    for iteration in range(max_iterations):\n",
        "        # Assign each point to the nearest cluster\n",
        "        cluster_assignments = []\n",
        "        for i in range(num_points):\n",
        "            distances = [euclidean_distance(X[i], center) for center in centers]\n",
        "            closest_cluster = np.argmin(distances)\n",
        "            cluster_assignments.append(closest_cluster)\n",
        "\n",
        "        # Update the cluster centers\n",
        "        new_centers = []\n",
        "        for cluster in range(k):\n",
        "            cluster_points = X[np.array(cluster_assignments) == cluster]\n",
        "            if len(cluster_points) > 0:\n",
        "                new_center = np.mean(cluster_points, axis=0)\n",
        "                new_centers.append(new_center)\n",
        "            else:\n",
        "                new_centers.append(centers[cluster])\n",
        "\n",
        "        new_centers = np.array(new_centers)\n",
        "\n",
        "        # Check for convergence\n",
        "        if np.all(centers == new_centers):\n",
        "            break\n",
        "\n",
        "        centers = new_centers\n",
        "\n",
        "    return centers, iteration + 1\n",
        "\n",
        "# Given data and initial centers\n",
        "X = np.array([[5.9, 3.2],\n",
        "              [4.6, 2.9],\n",
        "              [6.2, 2.8],\n",
        "              [4.7, 3.2],\n",
        "              [5.5, 4.2],\n",
        "              [5.0, 3.0],\n",
        "              [4.9, 3.1],\n",
        "              [6.7, 3.1],\n",
        "              [5.1, 3.8],\n",
        "              [6.0, 3.0]])\n",
        "\n",
        "initial_centers = np.array([[6.2, 3.2],\n",
        "                            [6.6, 3.7],\n",
        "                            [6.5, 3.0]])\n",
        "\n",
        "# Run k-means clustering\n",
        "final_centers_1, iterations_1 = k_means_clustering(X, 3, initial_centers)\n",
        "\n",
        "# Center after 2 iterations\n",
        "_, iterations_2 = k_means_clustering(X, 3, initial_centers, max_iterations=2)\n",
        "final_centers_2, _ = k_means_clustering(X, 3, initial_centers, max_iterations=iterations_2)\n",
        "\n",
        "# Center when clustering converges\n",
        "final_centers_3, iterations_3 = k_means_clustering(X, 3, initial_centers)\n",
        "\n",
        "# Output results\n",
        "print(\"1. Center of the first iteration (red):\", np.round(final_centers_1[0], 3))\n",
        "print(\"2. Center of the second iteration:\", np.round(final_centers_2[1], 3))\n",
        "print(\"3. Center of the third iteration when clustering converges:\", np.round(final_centers_3[2], 3))\n",
        "print(\"4. Number of iterations for convergence:\", iterations_3)\n"
      ]
    }
  ]
}