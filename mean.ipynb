{
  "nbformat": 4,
  "nbformat_minor": 0,
  "metadata": {
    "colab": {
      "provenance": []
    },
    "kernelspec": {
      "name": "python3",
      "display_name": "Python 3"
    },
    "language_info": {
      "name": "python"
    }
  },
  "cells": [
    {
      "cell_type": "code",
      "execution_count": 1,
      "metadata": {
        "id": "rc9fmBS7r0av"
      },
      "outputs": [],
      "source": [
        "data = [115.3, 195.5, 120.5, 110.2, 90.4, 105.6, 110.9, 116.3, 122.3, 125.4]\n"
      ]
    },
    {
      "cell_type": "code",
      "source": [
        "def calculate_mean(data):\n",
        "    return sum(data) / len(data)\n",
        "\n",
        "def calculate_median(data):\n",
        "    sorted_data = sorted(data)\n",
        "    n = len(sorted_data)\n",
        "    mid = n // 2\n",
        "    if n % 2 == 0:\n",
        "        return (sorted_data[mid - 1] + sorted_data[mid]) / 2\n",
        "    else:\n",
        "        return sorted_data[mid]\n",
        "\n",
        "def calculate_mode(data):\n",
        "    counts = {}\n",
        "    for value in data:\n",
        "        counts[value] = counts.get(value, 0) + 1\n",
        "\n",
        "    max_count = max(counts.values())\n",
        "    mode = [key for key, count in counts.items() if count == max_count]\n",
        "\n",
        "    return mode\n",
        "\n",
        "def calculate_standard_deviation(data):\n",
        "    mean = calculate_mean(data)\n",
        "    n = len(data)\n",
        "    squared_diff_sum = sum((x - mean) ** 2 for x in data)\n",
        "    variance = squared_diff_sum / n\n",
        "    std_dev = variance ** 0.5\n",
        "    return std_dev\n",
        "\n",
        "def calculate_variance(data):\n",
        "    mean = calculate_mean(data)\n",
        "    n = len(data)\n",
        "    squared_diff_sum = sum((x - mean) ** 2 for x in data)\n",
        "    variance = squared_diff_sum / n\n",
        "    return variance\n",
        "\n",
        "def min_max_normalization(data):\n",
        "    min_val = min(data)\n",
        "    max_val = max(data)\n",
        "    normalized_data = [(x - min_val) / (max_val - min_val) for x in data]\n",
        "    return normalized_data\n",
        "\n",
        "def standardization(data):\n",
        "    mean = calculate_mean(data)\n",
        "    std_dev = calculate_standard_deviation(data)\n",
        "    standardized_data = [(x - mean) / std_dev for x in data]\n",
        "    return standardized_data\n",
        "\n",
        "\n",
        "# Calculations\n",
        "mean_result = calculate_mean(data)\n",
        "median_result = calculate_median(data)\n",
        "mode_result = calculate_mode(data)\n",
        "std_dev_result = calculate_standard_deviation(data)\n",
        "variance_result = calculate_variance(data)\n",
        "min_max_normalized_result = min_max_normalization(data)\n",
        "standardized_result = standardization(data)\n",
        "\n",
        "# Output\n",
        "print(\"Mean:\", mean_result)\n",
        "print(\"Median:\", median_result)\n",
        "print(\"Mode:\", mode_result)\n",
        "print(\"Standard Deviation:\", std_dev_result)\n",
        "print(\"Variance:\", variance_result)\n",
        "print(\"Min-Max Normalization:\", min_max_normalized_result)\n",
        "print(\"Standardization:\", standardized_result)"
      ],
      "metadata": {
        "colab": {
          "base_uri": "https://localhost:8080/"
        },
        "id": "o0yilqydstun",
        "outputId": "5ec8b28a-cd64-4a28-fbec-661bf86b0246"
      },
      "execution_count": 2,
      "outputs": [
        {
          "output_type": "stream",
          "name": "stdout",
          "text": [
            "Mean: 121.24000000000001\n",
            "Median: 115.8\n",
            "Mode: [115.3, 195.5, 120.5, 110.2, 90.4, 105.6, 110.9, 116.3, 122.3, 125.4]\n",
            "Standard Deviation: 26.490987146574962\n",
            "Variance: 701.7724\n",
            "Min-Max Normalization: [0.23691722169362506, 1.0, 0.2863939105613701, 0.18839200761179828, 0.0, 0.14462416745956222, 0.1950523311132255, 0.24643196955280677, 0.3035204567078972, 0.3330161750713606]\n",
            "Standardization: [-0.22422720478983732, 2.803217546749711, -0.02793402887954231, -0.4167455119326263, -1.164169527898749, -0.5903894752378875, -0.3903214305600865, -0.18647851711478058, 0.040013608935559664, 0.15703454072823578]\n"
          ]
        }
      ]
    }
  ]
}